{
 "cells": [
  {
   "cell_type": "markdown",
   "metadata": {},
   "source": [
    "# Dawid Mailer Plain Text"
   ]
  },
  {
   "cell_type": "markdown",
   "metadata": {},
   "source": [
    "## Login Fields"
   ]
  },
  {
   "cell_type": "code",
   "execution_count": 21,
   "metadata": {},
   "outputs": [],
   "source": [
    "#Input your e-mail address and password.\n",
    "send_from = 'examplemail@gmail.com'\n",
    "password = '*******'"
   ]
  },
  {
   "cell_type": "markdown",
   "metadata": {},
   "source": [
    "## Email List"
   ]
  },
  {
   "cell_type": "code",
   "execution_count": 22,
   "metadata": {},
   "outputs": [],
   "source": [
    "#Type in the name of the excel file you would like to use for sending. \n",
    "#The name must be written in between apostrophies i.e.'filename.xlsx' and must be of xls or xlsx type.\n",
    "#Alternatively you can also use a CSV comma delimited file format, but you will need to uncomment the read_csv in the Mailer Backend.\n",
    "email_list_name = 'TemplateCSV.xlsx'"
   ]
  },
  {
   "cell_type": "markdown",
   "metadata": {},
   "source": [
    "## Email Content"
   ]
  },
  {
   "cell_type": "code",
   "execution_count": 29,
   "metadata": {},
   "outputs": [],
   "source": [
    "#Type out your e-mail content below in text format. The {} are place holders for the custom fields \n",
    "#you would like to use in order. The red text is the content of your message and it is sensitive to\n",
    "#any spaces you add. The message must start start and end at \"\"\" and then the following lines need to\n",
    "#be written from the left side of the margin like in the example.\n",
    "\n",
    "#The available fields are salutation, first_name, last_name, area, and area_content which you can put\n",
    "#in your message.\n",
    "\n",
    "def content(salutation, first_name, area, area_content):\n",
    "    email_content = \"\"\"\\\n",
    "Hi {}. {},\n",
    "    \n",
    "I hope you are doing great. I heard that you have a strong background in {}.\n",
    "    \n",
    "{}\n",
    "    \n",
    "I have attached a pd that I think would be of most interest to you.\n",
    "    \n",
    "Kind Regards,\n",
    "    \n",
    "Dawid Polanski\n",
    "+44 (0) 0777 777 7777\n",
    "dawidpolanski4869@gmail.com\n",
    "\"\"\".format(salutation, first_name, area, area_content)\n",
    "    #The bracket after .format dictates what field will be shown in your message in specific order\n",
    "    \n",
    "    return email_content"
   ]
  },
  {
   "cell_type": "markdown",
   "metadata": {},
   "source": [
    "## Email Attachments"
   ]
  },
  {
   "cell_type": "code",
   "execution_count": 24,
   "metadata": {},
   "outputs": [],
   "source": [
    "#Type in the name of the files you would like to include in the mailing. You can copy the line below to create\n",
    "#multiple lists for your mailing. The files need to be added to the script folder so that they can be found.\n",
    "files = [\n",
    "    'Example PDF.pdf'\n",
    "]\n",
    "#You can add multiple files lists depending on what you want to send and to whom.\n",
    "#All the file lists need to be listed in the square brackets below without the apostrophies and any previous entries\n",
    "#will have to be followed by a coma i.e. files_list = [files, files2, files3] with the last entry having no coma.\n",
    "#By default the first list will need to have a list number of 1.\n",
    "files_list = [files]"
   ]
  },
  {
   "cell_type": "markdown",
   "metadata": {},
   "source": [
    "## The Mailer is ready, click on the \"Cell\" tab and select \"Run All\" to start the program!"
   ]
  },
  {
   "cell_type": "markdown",
   "metadata": {},
   "source": [
    "## Import Libraries"
   ]
  },
  {
   "cell_type": "code",
   "execution_count": 25,
   "metadata": {},
   "outputs": [],
   "source": [
    "import smtplib\n",
    "from email.mime.application import MIMEApplication\n",
    "from email.mime.multipart import MIMEMultipart\n",
    "from email.mime.text import MIMEText\n",
    "from email.utils import COMMASPACE, formatdate\n",
    "import pandas as pd"
   ]
  },
  {
   "cell_type": "markdown",
   "metadata": {},
   "source": [
    "## Mailer Backend"
   ]
  },
  {
   "cell_type": "code",
   "execution_count": 26,
   "metadata": {},
   "outputs": [],
   "source": [
    "#This is the backend portion of the mailer that does the sending for you.\n",
    "#email_file = pd.read_csv(email_list_name)        #For CSV export from CRMs when using a csv file.\n",
    "email_file = pd.read_excel(email_list_name)\n",
    "\n",
    "def send_mail(send_to, send_from, password, email_subject, salutation, first_name, last_name, area, area_content, list_number):\n",
    "    msg = MIMEMultipart()\n",
    "    msg['Subject'] = email_subject\n",
    "    msg['From'] = send_from\n",
    "    msg['To'] = send_to\n",
    "    msg['Date'] = formatdate(localtime=True)\n",
    "\n",
    "    msg.attach(MIMEText(content(salutation, first_name, area, area_content), 'plain'))\n",
    "    \n",
    "    #Attaching Files\n",
    "    for f in files_list[list_number]:\n",
    "        with open(f, \"rb\") as opened:\n",
    "            openedfile = opened.read()\n",
    "        attachedfile = MIMEApplication(openedfile, _subtype = \"pdf\")\n",
    "        attachedfile.add_header('content-disposition', 'attachment', filename = f)\n",
    "        msg.attach(attachedfile)  \n",
    "    \n",
    "    #Creating SMTP Session for Gmail Email\n",
    "    session = smtplib.SMTP(\"smtp.gmail.com\", 587)\n",
    "    session.login(send_from, password)\n",
    "    session.sendmail(send_from, send_to, msg.as_string())\n",
    "    session.quit()"
   ]
  },
  {
   "cell_type": "code",
   "execution_count": 27,
   "metadata": {},
   "outputs": [],
   "source": [
    "#Function repeat for all emails\n",
    "for i in range(email_file.shape[0]):\n",
    "    send_to = email_file['E-mail'][i]\n",
    "    salutation = email_file['Salutation'][i]\n",
    "    first_name = email_file['First Name'][i]\n",
    "    last_name = email_file['Last Name'][i]\n",
    "    email_subject = email_file['Email Subject'][i]\n",
    "    area = email_file['Area'][i].lower()\n",
    "    area_content = email_file['Area Content'][i]\n",
    "    list_number = int(email_file['List Number'][i])-1\n",
    "    send_mail(send_to, send_from, password, email_subject, salutation, first_name, last_name, area, area_content, list_number)"
   ]
  }
 ],
 "metadata": {
  "kernelspec": {
   "display_name": "Python 3",
   "language": "python",
   "name": "python3"
  },
  "language_info": {
   "codemirror_mode": {
    "name": "ipython",
    "version": 3
   },
   "file_extension": ".py",
   "mimetype": "text/x-python",
   "name": "python",
   "nbconvert_exporter": "python",
   "pygments_lexer": "ipython3",
   "version": "3.7.4"
  }
 },
 "nbformat": 4,
 "nbformat_minor": 2
}